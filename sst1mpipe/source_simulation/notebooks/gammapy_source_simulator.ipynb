{
 "cells": [
  {
   "cell_type": "code",
   "execution_count": 1,
   "id": "c998a64d",
   "metadata": {},
   "outputs": [],
   "source": [
    "import os\n",
    "import numpy as np\n",
    "import pandas as pd\n",
    "import matplotlib.pyplot as plt\n",
    "import astropy.units as u\n",
    "from astropy.io import fits\n",
    "from gammapy.modeling.models import EBLAbsorptionNormSpectralModel\n",
    "from pathlib import Path\n"
   ]
  },
  {
   "cell_type": "code",
   "execution_count": 2,
   "metadata": {},
   "outputs": [
    {
     "name": "stdout",
     "output_type": "stream",
     "text": [
      "Looking in: C:\\Users\\a.nakhle\\sst1mpipe\\sst1mpipe\\source_simulation\\fits_files\n",
      "SST1M_stereo_Zen20deg_gcutenergydep_irfs.fits\n",
      "SST1M_stereo_Zen30deg_gcutenergydep_irfs.fits\n",
      "SST1M_stereo_Zen40deg_gcutenergydep_irfs.fits\n",
      "SST1M_stereo_Zen50deg_gcutenergydep_irfs.fits\n",
      "SST1M_stereo_Zen60deg_gcutenergydep_irfs.fits\n",
      "Processing zenith angle: 20\n",
      "Processing zenith angle: 30\n",
      "Processing zenith angle: 40\n",
      "Processing zenith angle: 50\n",
      "Processing zenith angle: 60\n"
     ]
    }
   ],
   "source": [
    "project_root = Path().resolve().parent.parent\n",
    "base_dir = project_root / 'source_simulation' / 'fits_files'\n",
    "\n",
    "print(f\"Looking in: {base_dir}\")\n",
    "for file in base_dir.glob('*.fits'):\n",
    "    print(file.name)\n",
    "\n",
    "filename_template = 'SST1M_stereo_Zen{zen}deg_gcutenergydep_irfs.fits'\n",
    "zenith_angles = range(20, 61, 10)\n",
    "\n",
    "irf_data_by_zenith = {}\n",
    "\n",
    "for zen in zenith_angles:\n",
    "    filename = filename_template.format(zen=zen)\n",
    "    path = base_dir / filename\n",
    "\n",
    "    print(f\"Processing zenith angle: {zen}\")\n",
    "    \n",
    "    if not path.exists():\n",
    "        print(f\"Warning: File not found for zenith {zen} at {path}\")\n",
    "        continue\n",
    "\n",
    "    try:\n",
    "        with fits.open(path) as hdul:\n",
    "            irf_data_by_zenith[zen] = {\n",
    "                'aeff': hdul['EFFECTIVE AREA'].data['EFFAREA'],\n",
    "                'psf': hdul['POINT SPREAD FUNCTION'].data,\n",
    "                'edisp': hdul['ENERGY DISPERSION'].data,\n",
    "                'bkg': hdul['BACKGROUND'].data\n",
    "            }\n",
    "    except Exception as e:\n",
    "        print(f\"Error reading file for zenith {zen}: {e}\")\n",
    "\n"
   ]
  }
 ],
 "metadata": {
  "kernelspec": {
   "display_name": "sst1m-dev",
   "language": "python",
   "name": "python3"
  },
  "language_info": {
   "codemirror_mode": {
    "name": "ipython",
    "version": 3
   },
   "file_extension": ".py",
   "mimetype": "text/x-python",
   "name": "python",
   "nbconvert_exporter": "python",
   "pygments_lexer": "ipython3",
   "version": "3.8.20"
  }
 },
 "nbformat": 4,
 "nbformat_minor": 5
}
